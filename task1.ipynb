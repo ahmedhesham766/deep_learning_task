{
 "cells": [
  {
   "cell_type": "code",
   "execution_count": 41,
   "id": "197f034b",
   "metadata": {},
   "outputs": [],
   "source": [
    "import pandas as pd\n",
    "import numpy as np\n",
    "from matplotlib import pyplot as plt\n",
    "from sklearn.model_selection import train_test_split\n"
   ]
  },
  {
   "cell_type": "code",
   "execution_count": 14,
   "id": "e55e3dac",
   "metadata": {},
   "outputs": [],
   "source": [
    "dataset = pd.read_csv(\"penguins.csv\")"
   ]
  },
  {
   "cell_type": "code",
   "execution_count": 16,
   "id": "1b103e14",
   "metadata": {},
   "outputs": [
    {
     "data": {
      "text/html": [
       "<div>\n",
       "<style scoped>\n",
       "    .dataframe tbody tr th:only-of-type {\n",
       "        vertical-align: middle;\n",
       "    }\n",
       "\n",
       "    .dataframe tbody tr th {\n",
       "        vertical-align: top;\n",
       "    }\n",
       "\n",
       "    .dataframe thead th {\n",
       "        text-align: right;\n",
       "    }\n",
       "</style>\n",
       "<table border=\"1\" class=\"dataframe\">\n",
       "  <thead>\n",
       "    <tr style=\"text-align: right;\">\n",
       "      <th></th>\n",
       "      <th>species</th>\n",
       "      <th>bill_length_mm</th>\n",
       "      <th>bill_depth_mm</th>\n",
       "      <th>flipper_length_mm</th>\n",
       "      <th>gender</th>\n",
       "      <th>body_mass_g</th>\n",
       "    </tr>\n",
       "  </thead>\n",
       "  <tbody>\n",
       "    <tr>\n",
       "      <th>0</th>\n",
       "      <td>Adelie</td>\n",
       "      <td>39.1</td>\n",
       "      <td>18.7</td>\n",
       "      <td>181</td>\n",
       "      <td>male</td>\n",
       "      <td>3750</td>\n",
       "    </tr>\n",
       "    <tr>\n",
       "      <th>1</th>\n",
       "      <td>Adelie</td>\n",
       "      <td>39.5</td>\n",
       "      <td>17.4</td>\n",
       "      <td>186</td>\n",
       "      <td>female</td>\n",
       "      <td>3800</td>\n",
       "    </tr>\n",
       "    <tr>\n",
       "      <th>2</th>\n",
       "      <td>Adelie</td>\n",
       "      <td>40.3</td>\n",
       "      <td>18.0</td>\n",
       "      <td>195</td>\n",
       "      <td>female</td>\n",
       "      <td>3250</td>\n",
       "    </tr>\n",
       "    <tr>\n",
       "      <th>3</th>\n",
       "      <td>Adelie</td>\n",
       "      <td>39.6</td>\n",
       "      <td>17.7</td>\n",
       "      <td>186</td>\n",
       "      <td>female</td>\n",
       "      <td>3500</td>\n",
       "    </tr>\n",
       "    <tr>\n",
       "      <th>4</th>\n",
       "      <td>Adelie</td>\n",
       "      <td>36.7</td>\n",
       "      <td>19.3</td>\n",
       "      <td>193</td>\n",
       "      <td>female</td>\n",
       "      <td>3450</td>\n",
       "    </tr>\n",
       "  </tbody>\n",
       "</table>\n",
       "</div>"
      ],
      "text/plain": [
       "  species  bill_length_mm  bill_depth_mm  flipper_length_mm  gender  \\\n",
       "0  Adelie            39.1           18.7                181    male   \n",
       "1  Adelie            39.5           17.4                186  female   \n",
       "2  Adelie            40.3           18.0                195  female   \n",
       "3  Adelie            39.6           17.7                186  female   \n",
       "4  Adelie            36.7           19.3                193  female   \n",
       "\n",
       "   body_mass_g  \n",
       "0         3750  \n",
       "1         3800  \n",
       "2         3250  \n",
       "3         3500  \n",
       "4         3450  "
      ]
     },
     "execution_count": 16,
     "metadata": {},
     "output_type": "execute_result"
    }
   ],
   "source": [
    "dataset.head()"
   ]
  },
  {
   "cell_type": "code",
   "execution_count": 83,
   "id": "2ad97c49",
   "metadata": {},
   "outputs": [],
   "source": [
    "X = dataset[dataset.columns[1:6]]\n",
    "Y = dataset[dataset.columns[0]]"
   ]
  },
  {
   "cell_type": "code",
   "execution_count": 115,
   "id": "062d6bf2",
   "metadata": {},
   "outputs": [
    {
     "data": {
      "text/plain": [
       "5"
      ]
     },
     "execution_count": 115,
     "metadata": {},
     "output_type": "execute_result"
    }
   ],
   "source": [
    "\n",
    "X.shape[1]\n"
   ]
  },
  {
   "cell_type": "code",
   "execution_count": 124,
   "id": "1d0c9cc1",
   "metadata": {},
   "outputs": [],
   "source": [
    "class Perceptron:\n",
    "\n",
    "    #initialize perceptron\n",
    "    def __init__(self, features, epochs, x_train_data, x_test_data, y_train_data, y_test_data, eta, num_training, num_testing):\n",
    "        self.features = features #number of input features\n",
    "        self.bias = np.random.randn() #bias\n",
    "        self.epochs = epochs #number of epochs\n",
    "        self.eta = eta #learning rate\n",
    "        self.lost = np.zeros(num_training) #error difference between predicted value and generated value\n",
    "        self.mse = np.zeros(self.epochs) #mean squared error for plotting the graph\n",
    "        self.weight = np.random.rand(features) #initial weight\n",
    "        self.num_training = num_training #number of training samples\n",
    "        self.num_testing = num_testing #number of testing samples\n",
    "        self.error_points = 0 #to keep track of the total testing error\n",
    "        \n",
    "        self.x_train_data = x_train_data\n",
    "        self.x_test_data = x_test_data\n",
    "        \n",
    "        self.y_train_data = y_train_data\n",
    "        self.y_test_data = y_test_data\n",
    "        \n",
    "    def sigmoid(x):\n",
    "        return 1/(1 + np.exp(-x))\n",
    "\n",
    "    def sigmoid_derv(x):\n",
    "        return sigmoid(x) * (1 - sigmoid(x))   \n",
    "    \n",
    "    def activation_func(self, x):\n",
    "            y = np.transpose(self.weight).dot(x) + self.bias\n",
    "\n",
    "            # sigmoid function\n",
    "            y = 1/(1 + np.exp(-y))\n",
    "\n",
    "            if y == 1:\n",
    "                return 1\n",
    "            elif y < 1:\n",
    "                return 0\n",
    "            else:\n",
    "                return 2\n",
    "\n",
    "    def fit(self): #learn through the number of traning samples\n",
    "\n",
    "        for j in range(self.epochs):\n",
    "\n",
    "            for i in range(self.num_training):\n",
    "                #fetch data\n",
    "                x = self.x_train_data[i, 1:self.features]\n",
    "\n",
    "                #fetch desired output from dataset\n",
    "                t = self.y_train_data[i]\n",
    "\n",
    "                #activation function\n",
    "                y = self.activation_func(x)\n",
    "\n",
    "                #calculate difference\n",
    "                self.lost[i] = t - y\n",
    "\n",
    "                #new weight\n",
    "                new_weight = self.weight + x.dot(self.lost[i] * self.eta)\n",
    "\n",
    "                #at any point if the weights are similar, then skip to the next epoch\n",
    "                if y != t: \n",
    "                    break\n",
    "                \n",
    "                #otherwise set the new weight as current weight\n",
    "                self.weight = new_weight\n",
    "\n",
    "            #calculate mean squared error for each epoch\n",
    "            self.mse[j] = np.square(self.ee).mean()\n",
    "\n",
    "        training_accuracy = 100 - ((self.lost[self.num_training - 1]/self.num_training) * 100)\n",
    "        print(f'Total samples trained: {self.num_training}')\n",
    "        print(f'Training accuracy: {training_accuracy}%')\n",
    "        print(f'Total epochs: {self.epochs}')\n",
    "\n",
    "    def plot_fit(self):\n",
    "        plt.xlabel('Epochs')\n",
    "        plt.ylabel('Mean squared error (mse)')\n",
    "        plt.title('Training accuracy')\n",
    "        plt.plot(self.mse)\n",
    "        plt.show()\n",
    "        \n",
    "    def predict(self): #predict and calulate testing accuracy\n",
    "        \n",
    "        for i in range(self.num_testing):\n",
    "            #fetch data\n",
    "            x = self.x_test_data[i, 0:self.features]\n",
    "\n",
    "            # activation function\n",
    "            y = self.activation_func(x)\n",
    "\n",
    "            #calculate error points\n",
    "            if y!=self.y_test_data[i]:\n",
    "                self.error_points += 1\n",
    "\n",
    "        #calculate testing accuracy\n",
    "        testing_accuracy = 100 - ((self.error_points/self.num_testing) * 100)\n",
    "\n",
    "        print(f'Total samples tested: {self.num_testing}')\n",
    "        print(f'Total errror points: {self.error_points}')\n",
    "        print(f'Testing accuracy: {testing_accuracy:.2f}%')"
   ]
  },
  {
   "cell_type": "code",
   "execution_count": 51,
   "id": "cfe81313",
   "metadata": {},
   "outputs": [],
   "source": [
    "#train_len = int((len(dataset)/3))"
   ]
  },
  {
   "cell_type": "code",
   "execution_count": 67,
   "id": "a203daae",
   "metadata": {},
   "outputs": [],
   "source": [
    " num_training_class= int(len(dataset)/3)"
   ]
  },
  {
   "cell_type": "code",
   "execution_count": 68,
   "id": "1565f39d",
   "metadata": {},
   "outputs": [
    {
     "data": {
      "text/plain": [
       "50"
      ]
     },
     "execution_count": 68,
     "metadata": {},
     "output_type": "execute_result"
    }
   ],
   "source": [
    "leng"
   ]
  },
  {
   "cell_type": "code",
   "execution_count": 69,
   "id": "7b6e738c",
   "metadata": {},
   "outputs": [],
   "source": [
    "train_len = int(0.6*num_training_class)"
   ]
  },
  {
   "cell_type": "code",
   "execution_count": 71,
   "id": "c216763b",
   "metadata": {},
   "outputs": [
    {
     "data": {
      "text/plain": [
       "30"
      ]
     },
     "execution_count": 71,
     "metadata": {},
     "output_type": "execute_result"
    }
   ],
   "source": [
    "train_len"
   ]
  },
  {
   "cell_type": "code",
   "execution_count": 86,
   "id": "a544a8d7",
   "metadata": {},
   "outputs": [],
   "source": [
    "X_train, X_test, Y_train, Y_test= train_test_split(X,Y,test_size= 0.6, random_state=0)"
   ]
  },
  {
   "cell_type": "code",
   "execution_count": 128,
   "id": "ff60ccf5",
   "metadata": {},
   "outputs": [
    {
     "ename": "TypeError",
     "evalue": "'Perceptron' object is not callable",
     "output_type": "error",
     "traceback": [
      "\u001b[1;31m---------------------------------------------------------------------------\u001b[0m",
      "\u001b[1;31mTypeError\u001b[0m                                 Traceback (most recent call last)",
      "\u001b[1;32m~\\AppData\\Local\\Temp/ipykernel_22592/739779935.py\u001b[0m in \u001b[0;36m<module>\u001b[1;34m\u001b[0m\n\u001b[0;32m      5\u001b[0m \u001b[0mfeatures\u001b[0m \u001b[1;33m=\u001b[0m \u001b[0mX_train\u001b[0m\u001b[1;33m.\u001b[0m\u001b[0mshape\u001b[0m\u001b[1;33m[\u001b[0m\u001b[1;36m1\u001b[0m\u001b[1;33m]\u001b[0m \u001b[1;31m# number of input neurons\u001b[0m\u001b[1;33m\u001b[0m\u001b[1;33m\u001b[0m\u001b[0m\n\u001b[0;32m      6\u001b[0m \u001b[0meta\u001b[0m \u001b[1;33m=\u001b[0m \u001b[1;36m0.001\u001b[0m \u001b[1;31m#learning rate\u001b[0m\u001b[1;33m\u001b[0m\u001b[1;33m\u001b[0m\u001b[0m\n\u001b[1;32m----> 7\u001b[1;33m \u001b[0mP\u001b[0m \u001b[1;33m=\u001b[0m \u001b[0mPerceptron\u001b[0m\u001b[1;33m(\u001b[0m\u001b[0mfeatures\u001b[0m\u001b[1;33m,\u001b[0m \u001b[0mepochs\u001b[0m\u001b[1;33m,\u001b[0m \u001b[0mX_train\u001b[0m\u001b[1;33m,\u001b[0m \u001b[0mX_test\u001b[0m\u001b[1;33m,\u001b[0m \u001b[0mY_train\u001b[0m\u001b[1;33m,\u001b[0m \u001b[0mY_test\u001b[0m\u001b[1;33m,\u001b[0m \u001b[0meta\u001b[0m\u001b[1;33m,\u001b[0m \u001b[0mnum_training\u001b[0m\u001b[1;33m,\u001b[0m \u001b[0mnum_testing\u001b[0m\u001b[1;33m)\u001b[0m\u001b[1;33m\u001b[0m\u001b[1;33m\u001b[0m\u001b[0m\n\u001b[0m\u001b[0;32m      8\u001b[0m \u001b[1;33m\u001b[0m\u001b[0m\n\u001b[0;32m      9\u001b[0m \u001b[0mP\u001b[0m\u001b[1;33m.\u001b[0m\u001b[0mfit\u001b[0m\u001b[1;33m(\u001b[0m\u001b[1;33m)\u001b[0m\u001b[1;33m\u001b[0m\u001b[1;33m\u001b[0m\u001b[0m\n",
      "\u001b[1;31mTypeError\u001b[0m: 'Perceptron' object is not callable"
     ]
    }
   ],
   "source": [
    "X_train, X_test, Y_train, Y_test= train_test_split(X,Y,test_size= 0.6, random_state=0)\n",
    "num_training = X_train.shape[0] # number of training data\n",
    "num_testing = X_test.shape[0]  # number of testing data\n",
    "epochs = 200 # number of epochs to iterate\n",
    "features = X_train.shape[1] # number of input neurons\n",
    "eta = 0.001 #learning rate\n",
    "P = Perceptron(features, epochs, X_train, X_test, Y_train, Y_test, eta, num_training, num_testing)\n",
    "\n",
    "P.fit()"
   ]
  },
  {
   "cell_type": "code",
   "execution_count": 112,
   "id": "0b806c71",
   "metadata": {},
   "outputs": [
    {
     "data": {
      "text/plain": [
       "5"
      ]
     },
     "execution_count": 112,
     "metadata": {},
     "output_type": "execute_result"
    }
   ],
   "source": [
    "features = X_train.shape[1] # number of input neurons\n",
    "eta = 0.001 #learning rate\n",
    "features"
   ]
  },
  {
   "cell_type": "code",
   "execution_count": 127,
   "id": "e557692b",
   "metadata": {},
   "outputs": [
    {
     "ename": "TypeError",
     "evalue": "'Perceptron' object is not callable",
     "output_type": "error",
     "traceback": [
      "\u001b[1;31m---------------------------------------------------------------------------\u001b[0m",
      "\u001b[1;31mTypeError\u001b[0m                                 Traceback (most recent call last)",
      "\u001b[1;32m~\\AppData\\Local\\Temp/ipykernel_22592/3592200352.py\u001b[0m in \u001b[0;36m<module>\u001b[1;34m\u001b[0m\n\u001b[1;32m----> 1\u001b[1;33m \u001b[0mP\u001b[0m \u001b[1;33m=\u001b[0m \u001b[0mPerceptron\u001b[0m\u001b[1;33m(\u001b[0m\u001b[0mfeatures\u001b[0m\u001b[1;33m,\u001b[0m \u001b[0mepochs\u001b[0m\u001b[1;33m,\u001b[0m \u001b[0mX_train\u001b[0m\u001b[1;33m,\u001b[0m \u001b[0mX_test\u001b[0m\u001b[1;33m,\u001b[0m \u001b[0mY_train\u001b[0m\u001b[1;33m,\u001b[0m \u001b[0mY_test\u001b[0m\u001b[1;33m,\u001b[0m \u001b[0meta\u001b[0m\u001b[1;33m,\u001b[0m \u001b[0mnum_training\u001b[0m\u001b[1;33m,\u001b[0m \u001b[0mnum_testing\u001b[0m\u001b[1;33m)\u001b[0m\u001b[1;33m\u001b[0m\u001b[1;33m\u001b[0m\u001b[0m\n\u001b[0m\u001b[0;32m      2\u001b[0m \u001b[1;33m\u001b[0m\u001b[0m\n\u001b[0;32m      3\u001b[0m \u001b[0mP\u001b[0m\u001b[1;33m.\u001b[0m\u001b[0mfit\u001b[0m\u001b[1;33m(\u001b[0m\u001b[1;33m)\u001b[0m\u001b[1;33m\u001b[0m\u001b[1;33m\u001b[0m\u001b[0m\n\u001b[0;32m      4\u001b[0m \u001b[1;33m\u001b[0m\u001b[0m\n\u001b[0;32m      5\u001b[0m \u001b[1;33m\u001b[0m\u001b[0m\n",
      "\u001b[1;31mTypeError\u001b[0m: 'Perceptron' object is not callable"
     ]
    }
   ],
   "source": [
    "P = Perceptron(features, epochs, X_train, X_test, Y_train, Y_test, eta, num_training, num_testing)\n",
    "\n",
    "P.fit()\n",
    "\n",
    "\n",
    "\n"
   ]
  },
  {
   "cell_type": "code",
   "execution_count": 94,
   "id": "3059623b",
   "metadata": {},
   "outputs": [
    {
     "ename": "TypeError",
     "evalue": "fit() missing 1 required positional argument: 'self'",
     "output_type": "error",
     "traceback": [
      "\u001b[1;31m---------------------------------------------------------------------------\u001b[0m",
      "\u001b[1;31mTypeError\u001b[0m                                 Traceback (most recent call last)",
      "\u001b[1;32m~\\AppData\\Local\\Temp/ipykernel_22592/2753383550.py\u001b[0m in \u001b[0;36m<module>\u001b[1;34m\u001b[0m\n\u001b[1;32m----> 1\u001b[1;33m \u001b[0mPerceptron\u001b[0m\u001b[1;33m.\u001b[0m\u001b[0mfit\u001b[0m\u001b[1;33m(\u001b[0m\u001b[1;33m)\u001b[0m\u001b[1;33m\u001b[0m\u001b[1;33m\u001b[0m\u001b[0m\n\u001b[0m\u001b[0;32m      2\u001b[0m \u001b[1;33m\u001b[0m\u001b[0m\n\u001b[0;32m      3\u001b[0m \u001b[1;31m#Plot training data\u001b[0m\u001b[1;33m\u001b[0m\u001b[1;33m\u001b[0m\u001b[0m\n\u001b[0;32m      4\u001b[0m \u001b[0mPerceptron\u001b[0m\u001b[1;33m.\u001b[0m\u001b[0mplot_fit\u001b[0m\u001b[1;33m(\u001b[0m\u001b[1;33m)\u001b[0m\u001b[1;33m\u001b[0m\u001b[1;33m\u001b[0m\u001b[0m\n\u001b[0;32m      5\u001b[0m \u001b[1;33m\u001b[0m\u001b[0m\n",
      "\u001b[1;31mTypeError\u001b[0m: fit() missing 1 required positional argument: 'self'"
     ]
    }
   ],
   "source": []
  },
  {
   "cell_type": "code",
   "execution_count": null,
   "id": "3b51a541",
   "metadata": {},
   "outputs": [],
   "source": []
  },
  {
   "cell_type": "code",
   "execution_count": null,
   "id": "8b44bf74",
   "metadata": {},
   "outputs": [],
   "source": []
  }
 ],
 "metadata": {
  "kernelspec": {
   "display_name": "Python 3 (ipykernel)",
   "language": "python",
   "name": "python3"
  },
  "language_info": {
   "codemirror_mode": {
    "name": "ipython",
    "version": 3
   },
   "file_extension": ".py",
   "mimetype": "text/x-python",
   "name": "python",
   "nbconvert_exporter": "python",
   "pygments_lexer": "ipython3",
   "version": "3.9.7"
  }
 },
 "nbformat": 4,
 "nbformat_minor": 5
}
